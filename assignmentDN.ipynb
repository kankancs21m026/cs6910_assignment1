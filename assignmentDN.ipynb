{
 "cells": [
  {
   "cell_type": "code",
   "execution_count": 1,
   "metadata": {},
   "outputs": [],
   "source": [
    "import numpy as np\n",
    "import pandas as pd\n",
    "import sys\n",
    "import matplotlib.pyplot as plt\n",
    "sys.path.append('../fashnMnist/')\n",
    "from fashnMnist.FashnMnist import FashnMnist\n",
    "from fashnMnist.Preprocessor import Preprocessor"
   ]
  },
  {
   "cell_type": "code",
   "execution_count": 2,
   "metadata": {},
   "outputs": [],
   "source": [
    "np.random.seed(42)"
   ]
  },
  {
   "cell_type": "markdown",
   "metadata": {},
   "source": [
    "#Load Mnist fafashion dataset using keras"
   ]
  },
  {
   "cell_type": "code",
   "execution_count": 3,
   "metadata": {},
   "outputs": [],
   "source": [
    "from keras.datasets import fashion_mnist\n",
    "(x_train, y_train), (x_test, y_test) = fashion_mnist.load_data()\n"
   ]
  },
  {
   "cell_type": "code",
   "execution_count": 4,
   "metadata": {},
   "outputs": [
    {
     "data": {
      "text/plain": [
       "<matplotlib.image.AxesImage at 0x2197c32cef0>"
      ]
     },
     "execution_count": 4,
     "metadata": {},
     "output_type": "execute_result"
    },
    {
     "data": {
      "image/png": "[encoded data removed]",
      "text/plain": [
       "<Figure size 432x288 with 1 Axes>"
      ]
     },
     "metadata": {
      "needs_background": "light"
     },
     "output_type": "display_data"
    }
   ],
   "source": [
    "\n",
    "classes = ['T-shirt/top','Trouser','Pullover','Dress','Coat','Sandal','Shirt','Sneaker','Bag','Ankle boot']\n",
    "plt.figure()\n",
    "plt.imshow(x_test[10])\n"
   ]
  },
  {
   "cell_type": "markdown",
   "metadata": {},
   "source": [
    "#Data preprocessing\n",
    "-verify dataset \n",
    "-perform one hot encoding"
   ]
  },
  {
   "cell_type": "code",
   "execution_count": 5,
   "metadata": {},
   "outputs": [],
   "source": [
    "\n",
    "from sklearn.model_selection import train_test_split    \n",
    "from keras.datasets import fashion_mnist\n",
    "(x_train, y_train), (x_test, y_test) = fashion_mnist.load_data()\n",
    "preprocess=Preprocessor(normalization=True)\n",
    "x_trainNorm, y_trainNorm, x_testNorm, y_testNorm=preprocess.Process_Fashon_mnistDataSet(x_train, y_train, x_test, y_test)\n"
   ]
  },
  {
   "cell_type": "markdown",
   "metadata": {},
   "source": [
    "\n",
    "\n",
    "Class Definition:\n",
    "-----------------------\n",
    "\n",
    "\n",
    "<b>FashnMnist</b>(<br>\n",
    "    x={Features normalized using class Preprocessor}<br>\n",
    "    ,<b>y=</b>[Training Labels.Data should be one hot encoded]<br>\n",
    "    ,<b>lr=</b>[Learning rate ,DataType:{Float}, default:.1]<br>\n",
    "    ,<b>epochs =</b>[Number of epochs]<br>\n",
    "    ,<b>batch=</b>[size of batches under one epoch]       \n",
    "    ,<b>layer1_size=</b>[Total hidden Nurons should present in first hidden layes , DataType{Int}]<br>\n",
    "    ,<b>layer2_size=</b>[Total hidden Nurons should present in second hidden layes , DataType{Int}]<br>\n",
    "    ,<b>layer3_size=</b>[Total hidden Nurons should present in Third hidden layes , DataType{Int}]<br>\n",
    "    ,<b>layer4_size=</b>[Total hidden Nurons should present in fourth hidden layes , DataType{Int}]<br>\n",
    "    ,<b>layer5_size=</b>[Total hidden Nurons should present in fifth hidden layes , DataType{Int}]<br>\n",
    "    ,<b>optimizer=</b><b>['rms','adam','nadam','sgd','mgd','nag' ,default:'mgd']</b><br>\n",
    "    ,<b>initializer=</b><b>['he','xavier','random',default: 'he']</b><br>\n",
    "    ,<b>activation=</b><b>['tanh','sigmoid','relu' default:'tanh']</b><br>\n",
    "    ,<b>weight_decay=</b>[weight decay for L2 regularization ,DataType:Float,default=0]<br>\n",
    "    <b>dropout_rate=</b>[DataType:Float,default=0]<br>   \n",
    "Methods:<br>\n",
    "    <b>train()</b>: Train the model<br>\n",
    "    <b>GetRunResult(x,y)</b>:<br>\n",
    "        <b>-Inputs</b><br>\n",
    "            -x: Normalized features<br>\n",
    "            -y: labels one hot encoded<br>\n",
    "        <br>\n",
    "        <b>-Returns</b><br>\n",
    "            -predicted data<br>\n",
    "            -accurecy<br>\n",
    "            -loss<br>\n",
    "            <br>\n",
    "Example \n",
    "-------------------------------\n",
    "model=<b>FashnMnist(</b><br>x=x_trainNorm,y=y_trainNorm,\n",
    "lr=.001,epochs=10,batch=32,<br>\n",
    "layer1_size=128,layer2_size=64,optimizer=\"nadam\",<br>\n",
    "initializer=\"he\",activation=\"relu\",dropout_rate=.1<br>)\n",
    "                   \n",
    "model.<b>train() </b>  <br>\n",
    "pred,accTrain,lossTrain = model.<b>GetRunResult(x_trainNorm,y_trainNorm)</b><br>"
   ]
  },
  {
   "cell_type": "markdown",
   "metadata": {},
   "source": [
    "NAdam \n",
    "-----"
   ]
  },
  {
   "cell_type": "code",
   "execution_count": 6,
   "metadata": {},
   "outputs": [
    {
     "name": "stdout",
     "output_type": "stream",
     "text": [
      "Starting NAdam\n",
      ".....................................\n"
     ]
    },
    {
     "ename": "KeyboardInterrupt",
     "evalue": "",
     "output_type": "error",
     "traceback": [
      "\u001b[1;31m---------------------------------------------------------------------------\u001b[0m",
      "\u001b[1;31mKeyboardInterrupt\u001b[0m                         Traceback (most recent call last)",
      "\u001b[1;32m<ipython-input-6-7efb3154d111>\u001b[0m in \u001b[0;36m<module>\u001b[1;34m()\u001b[0m\n\u001b[0;32m      8\u001b[0m \u001b[1;33m\u001b[0m\u001b[0m\n\u001b[0;32m      9\u001b[0m                    )\n\u001b[1;32m---> 10\u001b[1;33m \u001b[0mmodel\u001b[0m\u001b[1;33m.\u001b[0m\u001b[0mtrain\u001b[0m\u001b[1;33m(\u001b[0m\u001b[1;33m)\u001b[0m\u001b[1;33m\u001b[0m\u001b[0m\n\u001b[0m\u001b[0;32m     11\u001b[0m \u001b[0m_\u001b[0m\u001b[1;33m,\u001b[0m\u001b[0maccTrain\u001b[0m\u001b[1;33m,\u001b[0m\u001b[0mlossTrain\u001b[0m \u001b[1;33m=\u001b[0m \u001b[0mmodel\u001b[0m\u001b[1;33m.\u001b[0m\u001b[0mGetRunResult\u001b[0m\u001b[1;33m(\u001b[0m\u001b[0mx_trainNorm\u001b[0m\u001b[1;33m,\u001b[0m\u001b[0my_trainNorm\u001b[0m\u001b[1;33m)\u001b[0m\u001b[1;33m\u001b[0m\u001b[0m\n\u001b[0;32m     12\u001b[0m \u001b[0m_\u001b[0m\u001b[1;33m,\u001b[0m\u001b[0maccTest\u001b[0m\u001b[1;33m,\u001b[0m\u001b[0mlossTest\u001b[0m \u001b[1;33m=\u001b[0m\u001b[0mmodel\u001b[0m\u001b[1;33m.\u001b[0m\u001b[0mGetRunResult\u001b[0m\u001b[1;33m(\u001b[0m\u001b[0mx_testNorm\u001b[0m\u001b[1;33m,\u001b[0m\u001b[0my_testNorm\u001b[0m\u001b[1;33m)\u001b[0m\u001b[1;33m\u001b[0m\u001b[0m\n",
      "\u001b[1;32m~\\deepLearnAssignment1\\final\\kj\\fashnMnist\\FashnMnist.py\u001b[0m in \u001b[0;36mtrain\u001b[1;34m(self)\u001b[0m\n\u001b[0;32m     83\u001b[0m \u001b[1;33m\u001b[0m\u001b[0m\n\u001b[0;32m     84\u001b[0m     \u001b[1;32mdef\u001b[0m \u001b[0mtrain\u001b[0m\u001b[1;33m(\u001b[0m\u001b[0mself\u001b[0m\u001b[1;33m)\u001b[0m\u001b[1;33m:\u001b[0m\u001b[1;33m\u001b[0m\u001b[0m\n\u001b[1;32m---> 85\u001b[1;33m         \u001b[0mself\u001b[0m\u001b[1;33m.\u001b[0m\u001b[0mnetwork\u001b[0m\u001b[1;33m.\u001b[0m\u001b[0mtrain\u001b[0m\u001b[1;33m(\u001b[0m\u001b[1;33m)\u001b[0m\u001b[1;33m\u001b[0m\u001b[0m\n\u001b[0m\u001b[0;32m     86\u001b[0m \u001b[1;33m\u001b[0m\u001b[0m\n\u001b[0;32m     87\u001b[0m     \u001b[1;32mdef\u001b[0m \u001b[0mpredict\u001b[0m\u001b[1;33m(\u001b[0m\u001b[0mself\u001b[0m\u001b[1;33m,\u001b[0m\u001b[0mx\u001b[0m\u001b[1;33m,\u001b[0m\u001b[0my\u001b[0m\u001b[1;33m)\u001b[0m\u001b[1;33m:\u001b[0m\u001b[1;33m\u001b[0m\u001b[0m\n",
      "\u001b[1;32m~\\deepLearnAssignment1\\final\\kj\\fashnMnist\\optimizer\\NAdam.py\u001b[0m in \u001b[0;36mtrain\u001b[1;34m(self)\u001b[0m\n\u001b[0;32m     42\u001b[0m                 \u001b[0mstep\u001b[0m\u001b[1;33m+=\u001b[0m\u001b[1;36m1\u001b[0m\u001b[1;33m\u001b[0m\u001b[0m\n\u001b[0;32m     43\u001b[0m                 \u001b[0mprocessedDataSize\u001b[0m\u001b[1;33m=\u001b[0m\u001b[0mprocessedDataSize\u001b[0m\u001b[1;33m+\u001b[0m\u001b[0mself\u001b[0m\u001b[1;33m.\u001b[0m\u001b[0mbatch\u001b[0m\u001b[1;33m\u001b[0m\u001b[0m\n\u001b[1;32m---> 44\u001b[1;33m                 \u001b[0mm_w\u001b[0m\u001b[1;33m,\u001b[0m\u001b[0mv_w\u001b[0m\u001b[1;33m,\u001b[0m\u001b[0mm_b\u001b[0m\u001b[1;33m,\u001b[0m \u001b[0mv_b\u001b[0m \u001b[1;33m=\u001b[0m\u001b[0mself\u001b[0m\u001b[1;33m.\u001b[0m\u001b[0mupdateParam\u001b[0m\u001b[1;33m(\u001b[0m \u001b[0mm_w\u001b[0m\u001b[1;33m,\u001b[0m\u001b[0mv_w\u001b[0m\u001b[1;33m,\u001b[0m\u001b[0mm_b\u001b[0m\u001b[1;33m,\u001b[0m \u001b[0mv_b\u001b[0m \u001b[1;33m,\u001b[0m\u001b[0mbeta1\u001b[0m\u001b[1;33m,\u001b[0m\u001b[0mbeta2\u001b[0m\u001b[1;33m,\u001b[0m\u001b[1;33m(\u001b[0m\u001b[0mstep\u001b[0m\u001b[1;33m)\u001b[0m\u001b[1;33m)\u001b[0m\u001b[1;33m\u001b[0m\u001b[0m\n\u001b[0m\u001b[0;32m     45\u001b[0m \u001b[1;33m\u001b[0m\u001b[0m\n\u001b[0;32m     46\u001b[0m \u001b[1;33m\u001b[0m\u001b[0m\n",
      "\u001b[1;32m~\\deepLearnAssignment1\\final\\kj\\fashnMnist\\optimizer\\NAdam.py\u001b[0m in \u001b[0;36mupdateParam\u001b[1;34m(self, m_w, v_w, m_b, v_b, beta1, beta2, epoch)\u001b[0m\n\u001b[0;32m    105\u001b[0m \u001b[1;33m\u001b[0m\u001b[0m\n\u001b[0;32m    106\u001b[0m             \u001b[0mnagw1\u001b[0m\u001b[1;33m=\u001b[0m \u001b[1;33m(\u001b[0m\u001b[0mbeta1\u001b[0m\u001b[1;33m*\u001b[0m\u001b[0mmw\u001b[0m\u001b[1;33m)\u001b[0m\u001b[1;33m\u001b[0m\u001b[0m\n\u001b[1;32m--> 107\u001b[1;33m             \u001b[0mnagw2\u001b[0m\u001b[1;33m=\u001b[0m \u001b[0mbeta1Dash\u001b[0m \u001b[1;33m*\u001b[0m\u001b[1;33m(\u001b[0m\u001b[0mself\u001b[0m\u001b[1;33m.\u001b[0m\u001b[0mDW\u001b[0m\u001b[1;33m[\u001b[0m\u001b[0mi\u001b[0m\u001b[1;33m]\u001b[0m\u001b[1;33m)\u001b[0m\u001b[1;33m\u001b[0m\u001b[0m\n\u001b[0m\u001b[0;32m    108\u001b[0m             \u001b[0mnagw2\u001b[0m\u001b[1;33m=\u001b[0m\u001b[0mnagw2\u001b[0m\u001b[1;33m/\u001b[0m\u001b[0mbeta1Hat\u001b[0m\u001b[1;33m\u001b[0m\u001b[0m\n\u001b[0;32m    109\u001b[0m             \u001b[0mnagw\u001b[0m\u001b[1;33m=\u001b[0m \u001b[0mnagw1\u001b[0m\u001b[1;33m+\u001b[0m\u001b[0mnagw2\u001b[0m\u001b[1;33m\u001b[0m\u001b[0m\n",
      "\u001b[1;31mKeyboardInterrupt\u001b[0m: "
     ]
    }
   ],
   "source": [
    "model=FashnMnist(x=x_trainNorm,y=y_trainNorm,  lr=.001,  epochs =10, batch=16 ,               \n",
    "                   layer1_size=128,\\\n",
    "                   layer2_size=64,\\\n",
    "                   optimizer=\"nadam\",\\\n",
    "                   initializer=\"he\",\\\n",
    "                   activation=\"relu\",\n",
    "                   weight_decay=1.5\n",
    "                   \n",
    "                   )\n",
    "model.train()\n",
    "_,accTrain,lossTrain = model.GetRunResult(x_trainNorm,y_trainNorm)\n",
    "_,accTest,lossTest =model.GetRunResult(x_testNorm,y_testNorm)    \n",
    "print(accTrain)\n",
    "print(accTest)"
   ]
  },
  {
   "cell_type": "markdown",
   "metadata": {},
   "source": [
    "Adam \n",
    "-------------------"
   ]
  },
  {
   "cell_type": "code",
   "execution_count": 20,
   "metadata": {},
   "outputs": [
    {
     "name": "stdout",
     "output_type": "stream",
     "text": [
      "Starting Adam\n",
      ".....................................\n",
      " steps=1/1 , Accuraacy =88.14 ,Loss=0.32775 \n",
      "Completed\n",
      ".....................................\n",
      "88.14\n",
      "86.02\n"
     ]
    }
   ],
   "source": [
    "modeladam=FashnMnist(x=x_trainNorm,y=y_trainNorm,  lr=.001,  epochs =1, batch=16 ,               \n",
    "                   layer1_size=128,\\\n",
    "                   layer2_size=64,\\\n",
    "                   optimizer=\"adam\",\\\n",
    "                   initializer=\"he\",\\\n",
    "                   activation=\"relu\"\\\n",
    "                   )\n",
    "modeladam.train()\n",
    "_,accTrain,lossTrain = modeladam.GetRunResult(x_trainNorm,y_trainNorm)\n",
    "_,accTest,lossTest =modeladam.GetRunResult(x_testNorm,y_testNorm)    \n",
    "print(accTrain)\n",
    "print(accTest)"
   ]
  },
  {
   "cell_type": "markdown",
   "metadata": {},
   "source": [
    "RMSProp \n",
    "-------------------"
   ]
  },
  {
   "cell_type": "code",
   "execution_count": 8,
   "metadata": {},
   "outputs": [
    {
     "name": "stdout",
     "output_type": "stream",
     "text": [
      "Starting RMSProp\n",
      ".....................................\n",
      " steps=5/5 , Accuraacy =83.5 ,Loss=0.47047  \n",
      "Completed\n",
      ".....................................\n",
      "83.505\n",
      "82.08\n"
     ]
    }
   ],
   "source": [
    "modeladam=FashnMnist(x=x_trainNorm,y=y_trainNorm,  lr=.003,  epochs =5, batch=100 ,               \n",
    "                   layer1_size=32,\\\n",
    "                   #layer2_size=64,\\\n",
    "                   optimizer=\"rms\",\\\n",
    "                   initializer=\"he\",\\\n",
    "                   activation=\"tanh\",\\\n",
    "                   weight_decay=.5,\\\n",
    "                   lossfunction=\"cross\"\\\n",
    "                   )\n",
    "modeladam.train()\n",
    "_,accTrain,lossTrain = modeladam.GetRunResult(x_trainNorm,y_trainNorm)\n",
    "_,accTest,lossTest =modeladam.GetRunResult(x_testNorm,y_testNorm)    \n",
    "print(accTrain)\n",
    "print(accTest)"
   ]
  },
  {
   "cell_type": "markdown",
   "metadata": {},
   "source": [
    "MGD\n",
    "-----"
   ]
  },
  {
   "cell_type": "code",
   "execution_count": 10,
   "metadata": {},
   "outputs": [
    {
     "name": "stdout",
     "output_type": "stream",
     "text": [
      "Starting Momentum Gradient Descent\n",
      ".....................................\n",
      " steps=10/10 , Accuraacy =86.59 ,Loss=0.36855 \n",
      "Completed\n",
      ".....................................\n",
      "86.58500000000001\n",
      "84.44\n"
     ]
    }
   ],
   "source": [
    "modeladam=FashnMnist(x=x_trainNorm,y=y_trainNorm,  lr=.1,  epochs =10, batch=100 ,               \n",
    "                   layer1_size=256,\\\n",
    "                   layer2_size=128,\\\n",
    "                   optimizer=\"mgd\",\\\n",
    "                   initializer=\"he\",\\\n",
    "                   activation=\"tanh\",\\\n",
    "                   weight_decay=.5,\\\n",
    "                   dropout_rate=.1\n",
    "                   )\n",
    "modeladam.train()\n",
    "_,accTrain,lossTrain = modeladam.GetRunResult(x_trainNorm,y_trainNorm)\n",
    "_,accTest,lossTest =modeladam.GetRunResult(x_testNorm,y_testNorm)    \n",
    "print(accTrain)\n",
    "print(accTest)"
   ]
  },
  {
   "cell_type": "markdown",
   "metadata": {},
   "source": [
    "NAG \n",
    "-------------------"
   ]
  },
  {
   "cell_type": "code",
   "execution_count": 11,
   "metadata": {},
   "outputs": [
    {
     "name": "stdout",
     "output_type": "stream",
     "text": [
      "Starting NAG\n",
      ".....................................\n",
      " steps=10/10 , Accuraacy =83.14 ,Loss=0.50258 \n",
      "Completed\n",
      ".....................................\n",
      "83.13833333333334\n",
      "82.03\n"
     ]
    }
   ],
   "source": [
    "modeladam=FashnMnist(x=x_trainNorm,y=y_trainNorm,  lr=.5,  epochs =10, batch=100 ,               \n",
    "                   layer1_size=64,\\\n",
    "                   layer2_size=32,\\\n",
    "                   optimizer=\"nag\",\\\n",
    "                   initializer=\"he\",\\\n",
    "                   activation=\"tanh\"\\\n",
    "                  \n",
    "                   )\n",
    "modeladam.train()\n",
    "_,accTrain,lossTrain = modeladam.GetRunResult(x_trainNorm,y_trainNorm)\n",
    "_,accTest,lossTest =modeladam.GetRunResult(x_testNorm,y_testNorm)    \n",
    "print(accTrain)\n",
    "print(accTest)"
   ]
  },
  {
   "cell_type": "markdown",
   "metadata": {},
   "source": [
    "SGD \n",
    "-------------------"
   ]
  },
  {
   "cell_type": "code",
   "execution_count": 15,
   "metadata": {},
   "outputs": [
    {
     "name": "stdout",
     "output_type": "stream",
     "text": [
      ".....................................\n",
      "Starting Gradient Descent..\n",
      ".....................................\n",
      " steps=10/10 , Accuraacy =70.55 ,Loss=0.97409 \n",
      "Completed\n",
      ".....................................\n",
      "70.55\n",
      "70.19999999999999\n"
     ]
    }
   ],
   "source": [
    "modeladam=FashnMnist(x=x_trainNorm,y=y_trainNorm,  lr=.1,  epochs =10,\\           \n",
    "                   layer1_size=32,\\\n",
    "                   layer2_size=64,\\\n",
    "                   optimizer=\"sgd\",\\\n",
    "                   initializer=\"he\",\\\n",
    "                   activation=\"tanh\",\n",
    "                   )\n",
    "modeladam.train()\n",
    "_,accTrain,lossTrain = modeladam.GetRunResult(x_trainNorm,y_trainNorm)\n",
    "_,accTest,lossTest =modeladam.GetRunResult(x_testNorm,y_testNorm)    \n",
    "print(accTrain)\n",
    "print(accTest)"
   ]
  },
  {
   "cell_type": "code",
   "execution_count": null,
   "metadata": {},
   "outputs": [],
   "source": []
  }
 ],
 "metadata": {
  "kernelspec": {
   "display_name": "Python 3",
   "language": "python",
   "name": "python3"
  },
  "language_info": {
   "codemirror_mode": {
    "name": "ipython",
    "version": 3
   },
   "file_extension": ".py",
   "mimetype": "text/x-python",
   "name": "python",
   "nbconvert_exporter": "python",
   "pygments_lexer": "ipython3",
   "version": "3.6.5"
  }
 },
 "nbformat": 4,
 "nbformat_minor": 2
}
