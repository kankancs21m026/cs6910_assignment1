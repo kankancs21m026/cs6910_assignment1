{
 "cells": [
  {
   "cell_type": "code",
   "execution_count": 1,
   "metadata": {},
   "outputs": [],
   "source": [
    "import numpy as np\n",
    "import pandas as pd\n",
    "import sys\n",
    "import matplotlib.pyplot as plt\n",
    "sys.path.append('../fashnMnist/')\n",
    "from fashnMnist.FashnMnist import FashnMnist\n",
    "from fashnMnist.Preprocessor import Preprocessor"
   ]
  },
  {
   "cell_type": "code",
   "execution_count": 2,
   "metadata": {},
   "outputs": [],
   "source": [
    "np.random.seed(42)"
   ]
  },
  {
   "cell_type": "markdown",
   "metadata": {},
   "source": [
    "#Load Mnist fafashion dataset using keras"
   ]
  },
  {
   "cell_type": "code",
   "execution_count": 3,
   "metadata": {},
   "outputs": [],
   "source": [
    "from keras.datasets import fashion_mnist\n",
    "(x_train, y_train), (x_test, y_test) = fashion_mnist.load_data()\n"
   ]
  },
  {
   "cell_type": "code",
   "execution_count": 4,
   "metadata": {},
   "outputs": [],
   "source": [
    "\n",
    "classes = ['T-shirt/top','Trouser','Pullover','Dress','Coat','Sandal','Shirt','Sneaker','Bag','Ankle boot']\n",
    "#plt.figure()\n",
    "#plt.imshow(x_test[10])\n"
   ]
  },
  {
   "cell_type": "markdown",
   "metadata": {},
   "source": [
    "#Data preprocessing\n",
    "-verify dataset \n",
    "-perform one hot encoding"
   ]
  },
  {
   "cell_type": "code",
   "execution_count": 5,
   "metadata": {},
   "outputs": [],
   "source": [
    "\n",
    "from sklearn.model_selection import train_test_split    \n",
    "from keras.datasets import fashion_mnist\n",
    "(x_train, y_train), (x_test, y_test) = fashion_mnist.load_data()\n",
    "preprocess=Preprocessor(normalization=True)\n",
    "x_trainNorm, y_trainNorm, x_testNorm, y_testNorm=preprocess.Process_Fashon_mnistDataSet(x_train, y_train, x_test, y_test)\n"
   ]
  },
  {
   "cell_type": "markdown",
   "metadata": {},
   "source": [
    "#  Packages\n",
    "| Classes|Description|\n",
    "| ----------- | ----------- |\n",
    "|[fashnMnist/FashnMnist.py](https://github.com/ashokkumarthota/Deep-Learning/blob/main/KankanCS21M026/fashnMnist/FashnMnist.py)   | Main Class |\n",
    "|[fashnMnist/NeuralNetwork.py](https://github.com/ashokkumarthota/Deep-Learning/blob/main/KankanCS21M026/fashnMnist/NeuralNetwork.py)    | neural network|\n",
    "|[fashnMnist/Initializers.py](https://github.com/ashokkumarthota/Deep-Learning/blob/main/KankanCS21M026/fashnMnist/Initializers.py)|Weight Initializer|\n",
    "|[fashnMnist/Preprocessor.py](https://github.com/ashokkumarthota/Deep-Learning/blob/main/KankanCS21M026/fashnMnist/Preprocessor.py)\t\t   |Preprocess data|\n",
    "|[fashnMnist/Activations.py](https://github.com/ashokkumarthota/Deep-Learning/blob/main/KankanCS21M026/fashnMnist/Activations.py)\t|Various Activation functions|\n",
    "|[fashnMnist/optimizer/Adam.py](https://github.com/ashokkumarthota/Deep-Learning/blob/main/KankanCS21M026/fashnMnist/optimizer/Adam.py)|Adam Optimizer|\n",
    "|[fashnMnist/optimizer/NAG.py](https://github.com/ashokkumarthota/Deep-Learning/blob/main/KankanCS21M026/fashnMnist/optimizer/NAG.pyy)|NAG Optimizer|\n",
    "|[fashnMnist/optimizer/NAdam.py](https://github.com/ashokkumarthota/Deep-Learning/blob/main/KankanCS21M026/fashnMnist/optimizer/NAdam.py)|NAdam Optimizer|\n",
    "|[fashnMnist/optimizer/RMSProp.py](https://github.com/ashokkumarthota/Deep-Learning/blob/main/KankanCS21M026/fashnMnist/optimizer/RMSProp.py)|RMSProp Optimizer|\n",
    "|[fashnMnist/optimizer/MomentumGradiantDecent.py](https://github.com/ashokkumarthota/Deep-Learning/blob/main/KankanCS21M026/fashnMnist/optimizer/MomentumGradiantDecent.py)|MomentumGradiantDecent Optimizer|\n"
   ]
  },
  {
   "cell_type": "markdown",
   "metadata": {},
   "source": [
    "NAdam \n",
    "-----"
   ]
  },
  {
   "cell_type": "code",
   "execution_count": 17,
   "metadata": {},
   "outputs": [
    {
     "name": "stdout",
     "output_type": "stream",
     "text": [
      "Starting NAdam\n",
      ".....................................\n",
      " steps=5/5 , Accuraacy =92.4 ,Loss=0.20939  \n",
      "Completed\n",
      ".....................................\n",
      "92.40166666666667\n",
      "87.92\n"
     ]
    }
   ],
   "source": [
    "model=FashnMnist(x=x_trainNorm,y=y_trainNorm,  lr=.001,  epochs =5, batch=16 ,               \n",
    "                   layer1_size=128,\\\n",
    "                   layer2_size=64,\\\n",
    "                   optimizer=\"nadam\",\\\n",
    "                   initializer=\"he\",\\\n",
    "                   activation=\"relu\",\n",
    "                   weight_decay=1.5\n",
    "                   \n",
    "                   )\n",
    "model.train()\n",
    "_,accTrain,lossTrain = model.GetRunResult(x_trainNorm,y_trainNorm)\n",
    "_,accTest,lossTest =model.GetRunResult(x_testNorm,y_testNorm)    \n",
    "print(accTrain)\n",
    "print(accTest)"
   ]
  },
  {
   "cell_type": "markdown",
   "metadata": {},
   "source": [
    "Adam \n",
    "-------------------"
   ]
  },
  {
   "cell_type": "code",
   "execution_count": 16,
   "metadata": {},
   "outputs": [
    {
     "name": "stdout",
     "output_type": "stream",
     "text": [
      "Starting Adam\n",
      ".....................................\n",
      " steps=2/2 , Accuraacy =89.64 ,Loss=0.2861  \n",
      "Completed\n",
      ".....................................\n",
      "89.64333333333333\n",
      "86.91\n"
     ]
    }
   ],
   "source": [
    "modeladam=FashnMnist(x=x_trainNorm,y=y_trainNorm,  lr=.001,  epochs =2, batch=64 ,               \n",
    "                   layer1_size=128,\\\n",
    "                   layer2_size=64,\\\n",
    "                   optimizer=\"adam\",\\\n",
    "                   initializer=\"he\",\\\n",
    "                   activation=\"relu\"\\\n",
    "                   )\n",
    "modeladam.train()\n",
    "_,accTrain,lossTrain = modeladam.GetRunResult(x_trainNorm,y_trainNorm)\n",
    "_,accTest,lossTest =modeladam.GetRunResult(x_testNorm,y_testNorm)    \n",
    "print(accTrain)\n",
    "print(accTest)"
   ]
  },
  {
   "cell_type": "markdown",
   "metadata": {},
   "source": [
    "RMSProp \n",
    "-------------------"
   ]
  },
  {
   "cell_type": "code",
   "execution_count": 15,
   "metadata": {},
   "outputs": [
    {
     "name": "stdout",
     "output_type": "stream",
     "text": [
      "Starting RMSProp\n",
      ".....................................\n",
      " steps=5/5 , Accuraacy =81.81 ,Loss=0.51402 \n",
      "Completed\n",
      ".....................................\n",
      "81.81\n",
      "80.02\n"
     ]
    }
   ],
   "source": [
    "modeladam=FashnMnist(x=x_trainNorm,y=y_trainNorm,  lr=.003,  epochs =5, batch=60 ,               \n",
    "                   layer1_size=32,\\\n",
    "                   #layer2_size=64,\\\n",
    "                   optimizer=\"rms\",\\\n",
    "                   initializer=\"he\",\\\n",
    "                   activation=\"tanh\",\\\n",
    "                   weight_decay=.5,\\\n",
    "                   lossfunction=\"cross\"\\\n",
    "                   )\n",
    "modeladam.train()\n",
    "_,accTrain,lossTrain = modeladam.GetRunResult(x_trainNorm,y_trainNorm)\n",
    "_,accTest,lossTest =modeladam.GetRunResult(x_testNorm,y_testNorm)    \n",
    "print(accTrain)\n",
    "print(accTest)"
   ]
  },
  {
   "cell_type": "markdown",
   "metadata": {},
   "source": [
    "MGD\n",
    "-----"
   ]
  },
  {
   "cell_type": "code",
   "execution_count": 10,
   "metadata": {},
   "outputs": [
    {
     "name": "stdout",
     "output_type": "stream",
     "text": [
      "Starting Momentum Gradient Descent\n",
      ".....................................\n",
      " steps=10/10 , Accuraacy =86.59 ,Loss=0.36855 \n",
      "Completed\n",
      ".....................................\n",
      "86.58500000000001\n",
      "84.44\n"
     ]
    }
   ],
   "source": [
    "modeladam=FashnMnist(x=x_trainNorm,y=y_trainNorm,  lr=.1,  epochs =10, batch=100 ,               \n",
    "                   layer1_size=256,\\\n",
    "                   layer2_size=128,\\\n",
    "                   optimizer=\"mgd\",\\\n",
    "                   initializer=\"he\",\\\n",
    "                   activation=\"tanh\",\\\n",
    "                   weight_decay=.5,\\\n",
    "                   dropout_rate=.1\n",
    "                   )\n",
    "modeladam.train()\n",
    "_,accTrain,lossTrain = modeladam.GetRunResult(x_trainNorm,y_trainNorm)\n",
    "_,accTest,lossTest =modeladam.GetRunResult(x_testNorm,y_testNorm)    \n",
    "print(accTrain)\n",
    "print(accTest)"
   ]
  },
  {
   "cell_type": "markdown",
   "metadata": {},
   "source": [
    "NAG \n",
    "-------------------"
   ]
  },
  {
   "cell_type": "code",
   "execution_count": 11,
   "metadata": {},
   "outputs": [
    {
     "name": "stdout",
     "output_type": "stream",
     "text": [
      "Starting NAG\n",
      ".....................................\n",
      " steps=10/10 , Accuraacy =83.14 ,Loss=0.50258 \n",
      "Completed\n",
      ".....................................\n",
      "83.13833333333334\n",
      "82.03\n"
     ]
    }
   ],
   "source": [
    "modeladam=FashnMnist(x=x_trainNorm,y=y_trainNorm,  lr=.5,  epochs =10, batch=100 ,               \n",
    "                   layer1_size=64,\\\n",
    "                   layer2_size=32,\\\n",
    "                   optimizer=\"nag\",\\\n",
    "                   initializer=\"he\",\\\n",
    "                   activation=\"tanh\"\\\n",
    "                  \n",
    "                   )\n",
    "modeladam.train()\n",
    "_,accTrain,lossTrain = modeladam.GetRunResult(x_trainNorm,y_trainNorm)\n",
    "_,accTest,lossTest =modeladam.GetRunResult(x_testNorm,y_testNorm)    \n",
    "print(accTrain)\n",
    "print(accTest)"
   ]
  },
  {
   "cell_type": "markdown",
   "metadata": {},
   "source": [
    "SGD \n",
    "-------------------"
   ]
  },
  {
   "cell_type": "code",
   "execution_count": 15,
   "metadata": {},
   "outputs": [
    {
     "name": "stdout",
     "output_type": "stream",
     "text": [
      ".....................................\n",
      "Starting Gradient Descent..\n",
      ".....................................\n",
      " steps=10/10 , Accuraacy =70.55 ,Loss=0.97409 \n",
      "Completed\n",
      ".....................................\n",
      "70.55\n",
      "70.19999999999999\n"
     ]
    }
   ],
   "source": [
    "modeladam=FashnMnist(x=x_trainNorm,y=y_trainNorm,  lr=.1,  epochs =10,\\           \n",
    "                   layer1_size=32,\\\n",
    "                   layer2_size=64,\\\n",
    "                   optimizer=\"sgd\",\\\n",
    "                   initializer=\"he\",\\\n",
    "                   activation=\"tanh\",\n",
    "                   )\n",
    "modeladam.train()\n",
    "_,accTrain,lossTrain = modeladam.GetRunResult(x_trainNorm,y_trainNorm)\n",
    "_,accTest,lossTest =modeladam.GetRunResult(x_testNorm,y_testNorm)    \n",
    "print(accTrain)\n",
    "print(accTest)"
   ]
  },
  {
   "cell_type": "code",
   "execution_count": null,
   "metadata": {},
   "outputs": [],
   "source": []
  }
 ],
 "metadata": {
  "kernelspec": {
   "display_name": "Python 3",
   "language": "python",
   "name": "python3"
  },
  "language_info": {
   "codemirror_mode": {
    "name": "ipython",
    "version": 3
   },
   "file_extension": ".py",
   "mimetype": "text/x-python",
   "name": "python",
   "nbconvert_exporter": "python",
   "pygments_lexer": "ipython3",
   "version": "3.6.5"
  }
 },
 "nbformat": 4,
 "nbformat_minor": 2
}
