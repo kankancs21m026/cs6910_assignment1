{
 "cells": [
  {
   "cell_type": "code",
   "execution_count": 65,
   "metadata": {},
   "outputs": [],
   "source": [
    "import numpy as np\n",
    "import pandas as pd\n",
    "import sys\n",
    "import matplotlib.pyplot as plt\n",
    "sys.path.append('../fashnMnist/')\n",
    "from fashnMnist.FashnMnist import FashnMnist\n",
    "from fashnMnist.Preprocessor import Preprocessor\n"
   ]
  },
  {
   "cell_type": "code",
   "execution_count": 66,
   "metadata": {},
   "outputs": [],
   "source": [
    "np.random.seed(20)"
   ]
  },
  {
   "cell_type": "markdown",
   "metadata": {},
   "source": [
    "Load dataset\n",
    "-------"
   ]
  },
  {
   "cell_type": "code",
   "execution_count": 67,
   "metadata": {},
   "outputs": [],
   "source": [
    "from keras.datasets import fashion_mnist\n",
    "(x_train, y_train), (x_test, y_test) = fashion_mnist.load_data()\n",
    "preprocess=Preprocessor(normalization=True)\n",
    "x_trainNorm, y_trainNorm, x_testNorm, y_testNorm=preprocess.Process_Fashon_mnistDataSet(x_train, y_train, x_test, y_test)\n"
   ]
  },
  {
   "cell_type": "code",
   "execution_count": 68,
   "metadata": {},
   "outputs": [],
   "source": [
    "\n",
    "classes = ['T-shirt/top','Trouser','Pullover','Dress','Coat','Sandal','Shirt','Sneaker','Bag','Ankle boot']\n",
    "\n"
   ]
  },
  {
   "cell_type": "code",
   "execution_count": 69,
   "metadata": {},
   "outputs": [],
   "source": [
    "#import wandb\n",
    "#user = \"kankan-jana\"\n",
    "#project = \"cs6910_assignment1\"\n",
    "\n",
    "#wandb.login()\n",
    "#wandb.init(entity=user, project=project)"
   ]
  },
  {
   "cell_type": "code",
   "execution_count": 70,
   "metadata": {},
   "outputs": [],
   "source": [
    "import matplotlib.pyplot as plt\n",
    "import numpy as np\n",
    "import plotly\n",
    "import plotly.graph_objects as go\n",
    "def plotGraph(mse,cross,title):\n",
    "    xpoints = list(i+1 for i in range(len(mse)))\n",
    "    ypoints =list(mse)\n",
    "\n",
    "    plt.plot(xpoints, ypoints,color='red', linewidth=2, label=\"mse\")\n",
    "\n",
    "    xpoints = list(i+1 for i in range(len(cross)))\n",
    "    ypoints =list(cross)\n",
    "\n",
    "    plt.plot(xpoints, ypoints,color='brown', linewidth=2,   label=\"cross\")\n",
    "    plt.xlabel(\"step\")\n",
    "    plt.legend()\n",
    "    plt.ylabel(\"accurecy\")\n",
    "    plt.title(title)\n",
    "    plt.show()\n",
    "    #wandb.log({\"chart\": wandb.Image(plt)})\n",
    "    \n",
    "   \n",
    "    #wandb.log({\"chart\": plt})\n",
    "    \n"
   ]
  },
  {
   "cell_type": "markdown",
   "metadata": {},
   "source": [
    "#  Packages\n",
    "| Classes|Description|\n",
    "| ----------- | ----------- |\n",
    "|[fashnMnist/FashnMnist.py](https://github.com/ashokkumarthota/Deep-Learning/blob/main/KankanCS21M026/fashnMnist/FashnMnist.py)   | Main Class |\n",
    "|[fashnMnist/NeuralNetwork.py](https://github.com/ashokkumarthota/Deep-Learning/blob/main/KankanCS21M026/fashnMnist/NeuralNetwork.py)    | neural network|\n",
    "|[fashnMnist/Initializers.py](https://github.com/ashokkumarthota/Deep-Learning/blob/main/KankanCS21M026/fashnMnist/Initializers.py)|Weight Initializer|\n",
    "|[fashnMnist/Preprocessor.py](https://github.com/ashokkumarthota/Deep-Learning/blob/main/KankanCS21M026/fashnMnist/Preprocessor.py)\t\t   |Preprocess data|\n",
    "|[fashnMnist/Activations.py](https://github.com/ashokkumarthota/Deep-Learning/blob/main/KankanCS21M026/fashnMnist/Activations.py)\t|Various Activation functions|\n",
    "|[fashnMnist/optimizer/Adam.py](https://github.com/ashokkumarthota/Deep-Learning/blob/main/KankanCS21M026/fashnMnist/optimizer/Adam.py)|Adam Optimizer|\n",
    "|[fashnMnist/optimizer/NAG.py](https://github.com/ashokkumarthota/Deep-Learning/blob/main/KankanCS21M026/fashnMnist/optimizer/NAG.pyy)|NAG Optimizer|\n",
    "|[fashnMnist/optimizer/NAdam.py](https://github.com/ashokkumarthota/Deep-Learning/blob/main/KankanCS21M026/fashnMnist/optimizer/NAdam.py)|NAdam Optimizer|\n",
    "|[fashnMnist/optimizer/RMSProp.py](https://github.com/ashokkumarthota/Deep-Learning/blob/main/KankanCS21M026/fashnMnist/optimizer/RMSProp.py)|RMSProp Optimizer|\n",
    "|[fashnMnist/optimizer/MomentumGradiantDecent.py](https://github.com/ashokkumarthota/Deep-Learning/blob/main/KankanCS21M026/fashnMnist/optimizer/MomentumGradiantDecent.py)|MomentumGradiantDecent Optimizer|\n"
   ]
  },
  {
   "cell_type": "markdown",
   "metadata": {},
   "source": [
    "Run MGD optimizer with mse and cross entropy loss\n",
    "-------"
   ]
  },
  {
   "cell_type": "code",
   "execution_count": null,
   "metadata": {},
   "outputs": [
    {
     "name": "stdout",
     "output_type": "stream",
     "text": [
      "MSE\n",
      "Starting Adam\n",
      ".....................................\n",
      " steps=3/3 , Accuraacy =80.92 ,Loss=0.0 \n",
      "Completed\n",
      ".....................................\n",
      "ENTROPY\n",
      "Starting Adam\n",
      ".....................................\n",
      " steps=2/3 , Accuraacy =76.85 ,Loss=0.65994 "
     ]
    }
   ],
   "source": [
    "print('MSE')\n",
    "network=FashnMnist(x=x_trainNorm,y=y_trainNorm,runlog=True ,lossfunction='mse',lr=.1,epochs =3,batch=32\\\n",
    "                   ,weight_decay=0.01,layer1_size=20,optimizer='adam',activation='tanh')\n",
    "network.train()\n",
    "msenl,mserunlossmgd=network.TrainingStatistics()\n",
    "print('ENTROPY')\n",
    "network=FashnMnist(x=x_trainNorm,y=y_trainNorm,runlog=True ,lossfunction='cross',lr=.1,epochs =3,\\\n",
    "                   batch=32,weight_decay=0.01,layer1_size=20,optimizer='adam',activation='tanh')\n",
    "network.train()\n",
    "crossnl,crossrunlossmgdtanh=network.TrainingStatistics()"
   ]
  },
  {
   "cell_type": "code",
   "execution_count": null,
   "metadata": {},
   "outputs": [],
   "source": [
    "plotGraph(msenl,crossnl,\"Optimizer: Adam\")"
   ]
  },
  {
   "cell_type": "markdown",
   "metadata": {},
   "source": [
    "Run RMS Prop optimizer with mse and cross entropy loss\n",
    "-------"
   ]
  },
  {
   "cell_type": "code",
   "execution_count": null,
   "metadata": {},
   "outputs": [],
   "source": [
    "print('MSE')\n",
    "network=FashnMnist(x=x_trainNorm,y=y_trainNorm,runlog=True ,lossfunction='mse',lr=.0001,epochs =3,\\\n",
    "                   batch=32,weight_decay=0.1,layer1_size=20,optimizer='rms',activation='tanh')\n",
    "network.train()\n",
    "mse,mserunloss=network.TrainingStatistics()\n",
    "print('ENTROPY')\n",
    "network=FashnMnist(x=x_trainNorm,y=y_trainNorm,runlog=True ,lossfunction='cross',lr=.0001,epochs =3,\\\n",
    "                   batch=32,weight_decay=0.1,layer1_size=20,optimizer='rms',activation='tanh')\n",
    "network.train()\n",
    "cross,crossrunloss=network.TrainingStatistics()"
   ]
  },
  {
   "cell_type": "code",
   "execution_count": null,
   "metadata": {},
   "outputs": [],
   "source": [
    "    \n",
    "plotGraph(mse,cross,\"Optimizer: RMS\")"
   ]
  },
  {
   "cell_type": "markdown",
   "metadata": {},
   "source": [
    "Run NAG optimizer with mse and cross entropy loss\n",
    "-------"
   ]
  },
  {
   "cell_type": "code",
   "execution_count": null,
   "metadata": {},
   "outputs": [],
   "source": [
    "print('MSE')\n",
    "network=FashnMnist(x=x_trainNorm,y=y_trainNorm,runlog=True ,lossfunction='mse',lr=.1,\\\n",
    "                   epochs =5,batch=32,layer1_size=32,optimizer='nag',activation='tanh')\n",
    "network.train()\n",
    "mserunacc,mserunloss=network.TrainingStatistics()\n",
    "print('ENTROPY')\n",
    "network=FashnMnist(x=x_trainNorm,y=y_trainNorm,runlog=True ,lossfunction='cross',lr=.1,\\\n",
    "                   epochs =5,batch=32,weight_decay=0.1,layer1_size=32,optimizer='nag',activation='tanh')\n",
    "network.train()\n",
    "crossrunacc,crossrunloss=network.TrainingStatistics()"
   ]
  },
  {
   "cell_type": "code",
   "execution_count": null,
   "metadata": {},
   "outputs": [],
   "source": [
    "    \n",
    "plotGraph(mserunacc,crossrunacc,\"Optimizer: NAG\")"
   ]
  },
  {
   "cell_type": "markdown",
   "metadata": {},
   "source": [
    "Run NAdam optimizer with mse and cross entropy loss\n",
    "-------"
   ]
  },
  {
   "cell_type": "code",
   "execution_count": null,
   "metadata": {},
   "outputs": [],
   "source": [
    "print('MSE')\n",
    "network=FashnMnist(x=x_trainNorm,y=y_trainNorm,runlog=False ,lossfunction='mse',lr=.1,\\\n",
    "                   epochs =5,batch=100,weight_decay=0.1,layer1_size=20,optimizer='adam',activation='tanh')\n",
    "network.train()\n",
    "mserunacc,mserunloss=network.TrainingStatistics()\n",
    "print('ENTROPY')\n",
    "network=FashnMnist(x=x_trainNorm,y=y_trainNorm,runlog=False ,lossfunction='cross',lr=.1,\\\n",
    "                   epochs =5,batch=100,weight_decay=0.1,layer1_size=20,optimizer='adam',activation='tanh')\n",
    "network.train()\n",
    "crossrunacc,crossrunloss=network.TrainingStatistics()"
   ]
  },
  {
   "cell_type": "code",
   "execution_count": null,
   "metadata": {},
   "outputs": [],
   "source": [
    "plotGraph(mserunacc,crossrunacc,\"Optimizer: NAdam\")"
   ]
  },
  {
   "cell_type": "markdown",
   "metadata": {},
   "source": [
    "Run GD optimizer with mse and cross entropy loss\n",
    "-------"
   ]
  },
  {
   "cell_type": "code",
   "execution_count": null,
   "metadata": {},
   "outputs": [],
   "source": [
    "print('MSE')\n",
    "network=FashnMnist(x=x_trainNorm,y=y_trainNorm,runlog=True ,lossfunction='mse',lr=.1,epochs =5,batch=100,layer1_size=20,optimizer='gd',activation='tanh')\n",
    "network.train()\n",
    "mserunacc,mserunloss=network.TrainingStatistics()\n",
    "print('ENTROPY')\n",
    "network=FashnMnist(x=x_trainNorm,y=y_trainNorm,runlog=True ,lossfunction='cross',lr=.1,epochs =5,batch=100,\\\n",
    "                   weight_decay=0.1,layer1_size=20,optimizer='gd',activation='tanh')\n",
    "network.train()\n",
    "crossrunacc,crossrunloss=network.TrainingStatistics()"
   ]
  },
  {
   "cell_type": "code",
   "execution_count": null,
   "metadata": {},
   "outputs": [],
   "source": [
    "plotGraph(mserunacc,crossrunacc,\"Optimizer: GD\")"
   ]
  },
  {
   "cell_type": "code",
   "execution_count": null,
   "metadata": {},
   "outputs": [],
   "source": []
  }
 ],
 "metadata": {
  "kernelspec": {
   "display_name": "Python 3",
   "language": "python",
   "name": "python3"
  },
  "language_info": {
   "codemirror_mode": {
    "name": "ipython",
    "version": 3
   },
   "file_extension": ".py",
   "mimetype": "text/x-python",
   "name": "python",
   "nbconvert_exporter": "python",
   "pygments_lexer": "ipython3",
   "version": "3.6.5"
  }
 },
 "nbformat": 4,
 "nbformat_minor": 2
}
