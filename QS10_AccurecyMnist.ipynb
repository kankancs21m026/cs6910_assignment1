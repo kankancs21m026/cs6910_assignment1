{
 "cells": [
  {
   "cell_type": "code",
   "execution_count": 14,
   "metadata": {},
   "outputs": [],
   "source": [
    "import numpy as np\n",
    "import pandas as pd\n",
    "import sys\n",
    "import matplotlib.pyplot as plt\n",
    "sys.path.append('../fashnMnist/')\n",
    "from fashnMnist.FashnMnist import FashnMnist\n",
    "from fashnMnist.Preprocessor import Preprocessor"
   ]
  },
  {
   "cell_type": "code",
   "execution_count": 15,
   "metadata": {},
   "outputs": [],
   "source": [
    "np.random.seed(42)"
   ]
  },
  {
   "cell_type": "markdown",
   "metadata": {},
   "source": [
    "#Load Mnist  dataset using keras"
   ]
  },
  {
   "cell_type": "code",
   "execution_count": 16,
   "metadata": {},
   "outputs": [],
   "source": [
    "from keras.datasets import fashion_mnist\n",
    "(x_train, y_train), (x_test, y_test) = fashion_mnist.load_data()\n"
   ]
  },
  {
   "cell_type": "code",
   "execution_count": null,
   "metadata": {},
   "outputs": [],
   "source": []
  },
  {
   "cell_type": "markdown",
   "metadata": {},
   "source": [
    "#Data preprocessing\n",
    "-verify dataset \n",
    "-perform one hot encoding"
   ]
  },
  {
   "cell_type": "code",
   "execution_count": 17,
   "metadata": {},
   "outputs": [],
   "source": [
    "\n",
    "from sklearn.model_selection import train_test_split    \n",
    "from keras.datasets import mnist\n",
    "(x_train, y_train), (x_test, y_test) = mnist.load_data()\n",
    "preprocess=Preprocessor(normalization=False)\n",
    "x_trainNorm, y_trainNorm, x_testNorm, y_testNorm=preprocess.Process_Fashon_mnistDataSet(x_train, y_train, x_test, y_test)\n"
   ]
  },
  {
   "cell_type": "markdown",
   "metadata": {},
   "source": [
    "#  Packages\n",
    "| Classes|Description|\n",
    "| ----------- | ----------- |\n",
    "|[fashnMnist/FashnMnist.py](https://github.com/ashokkumarthota/Deep-Learning/blob/main/KankanCS21M026/fashnMnist/FashnMnist.py)   | Main Class |\n",
    "|[fashnMnist/NeuralNetwork.py](https://github.com/ashokkumarthota/Deep-Learning/blob/main/KankanCS21M026/fashnMnist/NeuralNetwork.py)    | neural network|\n",
    "|[fashnMnist/Initializers.py](https://github.com/ashokkumarthota/Deep-Learning/blob/main/KankanCS21M026/fashnMnist/Initializers.py)|Weight Initializer|\n",
    "|[fashnMnist/Preprocessor.py](https://github.com/ashokkumarthota/Deep-Learning/blob/main/KankanCS21M026/fashnMnist/Preprocessor.py)\t\t   |Preprocess data|\n",
    "|[fashnMnist/Activations.py](https://github.com/ashokkumarthota/Deep-Learning/blob/main/KankanCS21M026/fashnMnist/Activations.py)\t|Various Activation functions|\n",
    "|[fashnMnist/optimizer/Adam.py](https://github.com/ashokkumarthota/Deep-Learning/blob/main/KankanCS21M026/fashnMnist/optimizer/Adam.py)|Adam Optimizer|\n",
    "|[fashnMnist/optimizer/NAG.py](https://github.com/ashokkumarthota/Deep-Learning/blob/main/KankanCS21M026/fashnMnist/optimizer/NAG.pyy)|NAG Optimizer|\n",
    "|[fashnMnist/optimizer/NAdam.py](https://github.com/ashokkumarthota/Deep-Learning/blob/main/KankanCS21M026/fashnMnist/optimizer/NAdam.py)|NAdam Optimizer|\n",
    "|[fashnMnist/optimizer/RMSProp.py](https://github.com/ashokkumarthota/Deep-Learning/blob/main/KankanCS21M026/fashnMnist/optimizer/RMSProp.py)|RMSProp Optimizer|\n",
    "|[fashnMnist/optimizer/MomentumGradiantDecent.py](https://github.com/ashokkumarthota/Deep-Learning/blob/main/KankanCS21M026/fashnMnist/optimizer/MomentumGradiantDecent.py)|MomentumGradiantDecent Optimizer|\n"
   ]
  },
  {
   "cell_type": "markdown",
   "metadata": {},
   "source": [
    "NAdam \n",
    "-----"
   ]
  },
  {
   "cell_type": "code",
   "execution_count": 18,
   "metadata": {},
   "outputs": [
    {
     "name": "stdout",
     "output_type": "stream",
     "text": [
      "Starting NAdam\n",
      ".....................................\n",
      " steps=5/5 , Accuraacy =98.74 ,Loss=0.04694 \n",
      "Completed\n",
      ".....................................\n",
      "Training Accurecy: 98.73666666666666\n",
      "Testing Accurecy: 97.58\n"
     ]
    }
   ],
   "source": [
    "\n",
    "model=FashnMnist(x=x_trainNorm,y=y_trainNorm,  lr=.003,  epochs =5, batch=100 ,               \n",
    "                   layer1_size=128,\\\n",
    "                   layer2_size=64,\\\n",
    "                   optimizer=\"nadam\",\\\n",
    "                   initializer=\"he\",\\\n",
    "                   activation=\"tanh\",\n",
    "                   weight_decay=1.5\n",
    "                   \n",
    "                   )\n",
    "model.train()\n",
    "_,accTrain,lossTrain = model.GetRunResult(x_trainNorm,y_trainNorm)\n",
    "_,accTest,lossTest =model.GetRunResult(x_testNorm,y_testNorm)    \n",
    "print('Training Accurecy: '+str(accTrain))\n",
    "print('Testing Accurecy: '+str(accTest))"
   ]
  },
  {
   "cell_type": "code",
   "execution_count": 21,
   "metadata": {},
   "outputs": [
    {
     "name": "stdout",
     "output_type": "stream",
     "text": [
      "Starting NAdam\n",
      ".....................................\n",
      " steps=5/5 , Accuraacy =98.52 ,Loss=0.05135 \n",
      "Completed\n",
      ".....................................\n",
      "Training Accurecy: 98.52\n",
      "Testing Accurecy: 97.39999999999999\n"
     ]
    }
   ],
   "source": [
    "\n",
    "model=FashnMnist(x=x_trainNorm,y=y_trainNorm,  lr=.002,  epochs =5, batch=100 ,               \n",
    "                   layer1_size=128,\\\n",
    "                   layer2_size=128,\\\n",
    "                   optimizer=\"nadam\",\\\n",
    "                   initializer=\"he\",\\\n",
    "                   activation=\"relu\",\n",
    "                   weight_decay=1.5\n",
    "                   \n",
    "                   )\n",
    "model.train()\n",
    "_,accTrain,lossTrain = model.GetRunResult(x_trainNorm,y_trainNorm)\n",
    "_,accTest,lossTest =model.GetRunResult(x_testNorm,y_testNorm)    \n",
    "_,accTrain,lossTrain = model.GetRunResult(x_trainNorm,y_trainNorm)\n",
    "_,accTest,lossTest =model.GetRunResult(x_testNorm,y_testNorm)    \n",
    "print('Training Accurecy: '+str(accTrain))\n",
    "print('Testing Accurecy: '+str(accTest))"
   ]
  },
  {
   "cell_type": "code",
   "execution_count": 24,
   "metadata": {},
   "outputs": [
    {
     "name": "stdout",
     "output_type": "stream",
     "text": [
      "Starting NAdam\n",
      ".....................................\n",
      " steps=5/5 , Accuraacy =98.88 ,Loss=0.03483 \n",
      "Completed\n",
      ".....................................\n",
      "Training Accurecy: 98.52\n",
      "Testing Accurecy: 97.39999999999999\n"
     ]
    }
   ],
   "source": [
    "modeladam=FashnMnist(x=x_trainNorm,y=y_trainNorm,  lr=.001,  epochs =5, batch=100 ,               \n",
    "                   layer1_size=128,\\\n",
    "                   layer2_size=128,\\\n",
    "                   optimizer=\"adam\",\\\n",
    "                   initializer=\"he\",\\\n",
    "                   activation=\"relu\"\\\n",
    "                   )\n",
    "modeladam.train()\n",
    "_,accTrain,lossTrain = modeladam.GetRunResult(x_trainNorm,y_trainNorm)\n",
    "_,accTest,lossTest =modeladam.GetRunResult(x_testNorm,y_testNorm)    \n",
    "_,accTrain,lossTrain = model.GetRunResult(x_trainNorm,y_trainNorm)\n",
    "_,accTest,lossTest =model.GetRunResult(x_testNorm,y_testNorm)    \n",
    "print('Training Accurecy: '+str(accTrain))\n",
    "print('Testing Accurecy: '+str(accTest))"
   ]
  },
  {
   "cell_type": "code",
   "execution_count": null,
   "metadata": {},
   "outputs": [],
   "source": []
  }
 ],
 "metadata": {
  "kernelspec": {
   "display_name": "Python 3",
   "language": "python",
   "name": "python3"
  },
  "language_info": {
   "codemirror_mode": {
    "name": "ipython",
    "version": 3
   },
   "file_extension": ".py",
   "mimetype": "text/x-python",
   "name": "python",
   "nbconvert_exporter": "python",
   "pygments_lexer": "ipython3",
   "version": "3.6.5"
  }
 },
 "nbformat": 4,
 "nbformat_minor": 2
}
