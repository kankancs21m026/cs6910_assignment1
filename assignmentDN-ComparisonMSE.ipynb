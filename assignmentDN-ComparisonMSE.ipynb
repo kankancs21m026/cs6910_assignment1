{
 "cells": [
  {
   "cell_type": "code",
   "execution_count": 19,
   "metadata": {},
   "outputs": [],
   "source": [
    "import numpy as np\n",
    "import pandas as pd\n",
    "import sys\n",
    "import matplotlib.pyplot as plt\n",
    "sys.path.append('../fashnMnist/')\n",
    "from fashnMnist.FashnMnist import FashnMnist\n",
    "from fashnMnist.Preprocessor import Preprocessor\n"
   ]
  },
  {
   "cell_type": "code",
   "execution_count": 20,
   "metadata": {},
   "outputs": [],
   "source": [
    "np.random.seed(20)"
   ]
  },
  {
   "cell_type": "markdown",
   "metadata": {},
   "source": [
    "Load dataset\n",
    "-------"
   ]
  },
  {
   "cell_type": "code",
   "execution_count": 21,
   "metadata": {},
   "outputs": [],
   "source": [
    "from keras.datasets import fashion_mnist\n",
    "(x_train, y_train), (x_test, y_test) = fashion_mnist.load_data()\n",
    "preprocess=Preprocessor(normalization=True)\n",
    "x_trainNorm, y_trainNorm, x_testNorm, y_testNorm=preprocess.Process_Fashon_mnistDataSet(x_train, y_train, x_test, y_test)\n"
   ]
  },
  {
   "cell_type": "code",
   "execution_count": 22,
   "metadata": {},
   "outputs": [],
   "source": [
    "\n",
    "classes = ['T-shirt/top','Trouser','Pullover','Dress','Coat','Sandal','Shirt','Sneaker','Bag','Ankle boot']\n",
    "\n"
   ]
  },
  {
   "cell_type": "code",
   "execution_count": 23,
   "metadata": {},
   "outputs": [],
   "source": [
    "#import wandb\n",
    "#user = \"kankan-jana\"\n",
    "#project = \"cs6910_assignment1\"\n",
    "\n",
    "#wandb.login()\n",
    "#wandb.init(entity=user, project=project)"
   ]
  },
  {
   "cell_type": "code",
   "execution_count": 24,
   "metadata": {},
   "outputs": [],
   "source": [
    "import matplotlib.pyplot as plt\n",
    "import numpy as np\n",
    "import plotly\n",
    "import plotly.graph_objects as go\n",
    "def plotGraph(msenl,crossnl,msel,crossl,title):\n",
    "    xpoints = list(i+1 for i in range(len(msenl)))\n",
    "    ypoints =list(msenl)\n",
    "\n",
    "    plt.plot(xpoints, ypoints,color='red', linewidth=2, label=\"mse_tanh\")\n",
    "\n",
    "    xpoints = list(i+1 for i in range(len(crossnl)))\n",
    "    ypoints =list(crossnl)\n",
    "\n",
    "    plt.plot(xpoints, ypoints,color='green', linewidth=2,   label=\"cross_tanh\")\n",
    "    \n",
    "    \n",
    "    \n",
    "    xpoints = list(i+1 for i in range(len(msel)))\n",
    "    ypoints =list(msel)\n",
    "\n",
    "    plt.plot(xpoints, ypoints,color='blue', linewidth=2, label=\"mse_relu\")\n",
    "\n",
    "    xpoints = list(i+1 for i in range(len(crossl)))\n",
    "    ypoints =list(crossl)\n",
    "\n",
    "    plt.plot(xpoints, ypoints,color='brown', linewidth=2,   label=\"cross_relu\")\n",
    "    plt.xlabel(\"step\")\n",
    "    plt.legend()\n",
    "    plt.ylabel(\"accurecy\")\n",
    "    plt.title(title)\n",
    "    plt.show()\n",
    "    #wandb.log({\"chart\": wandb.Image(plt)})\n",
    "    \n",
    "   \n",
    "    #wandb.log({\"chart\": plt})\n",
    "    \n"
   ]
  },
  {
   "cell_type": "markdown",
   "metadata": {},
   "source": [
    "Run MGD optimizer with mse and cross entropy loss\n",
    "-------"
   ]
  },
  {
   "cell_type": "code",
   "execution_count": 39,
   "metadata": {},
   "outputs": [
    {
     "name": "stdout",
     "output_type": "stream",
     "text": [
      "MSE\n",
      "Starting Adam\n",
      ".....................................\n",
      " steps=3/3 , Accuraacy =79.76 ,Loss=0.0 \n",
      "Completed\n",
      ".....................................\n",
      "ENTROPY\n",
      "Starting Adam\n",
      ".....................................\n",
      " steps=3/3 , Accuraacy =74.33 ,Loss=0.76101 \n",
      "Completed\n",
      ".....................................\n"
     ]
    }
   ],
   "source": [
    "print('MSE')\n",
    "network=FashnMnist(x=x_trainNorm,y=y_trainNorm,runlog=True ,lossfunction='mse',lr=.1,epochs =3,batch=32\\\n",
    "                   ,weight_decay=0.01,layer1_size=20,optimizer='adam',activation='tanh')\n",
    "network.train()\n",
    "msenl,mserunlossmgd=network.TrainingStatistics()\n",
    "print('ENTROPY')\n",
    "network=FashnMnist(x=x_trainNorm,y=y_trainNorm,runlog=True ,lossfunction='cross',lr=.1,epochs =3,\\\n",
    "                   batch=32,weight_decay=0.01,layer1_size=20,optimizer='adam',activation='tanh')\n",
    "network.train()\n",
    "crossnl,crossrunlossmgdtanh=network.TrainingStatistics()"
   ]
  },
  {
   "cell_type": "code",
   "execution_count": 43,
   "metadata": {},
   "outputs": [
    {
     "name": "stdout",
     "output_type": "stream",
     "text": [
      "MSE\n",
      "Starting Adam\n",
      ".....................................\n",
      " steps=3/3 , Accuraacy =10.0 ,Loss=0.0 \n",
      "Completed\n",
      ".....................................\n",
      "ENTROPY\n",
      "Starting Adam\n",
      ".....................................\n"
     ]
    },
    {
     "name": "stderr",
     "output_type": "stream",
     "text": [
      "C:\\Users\\cseka\\deepLearnAssignment1\\final\\kj\\fashnMnist\\Activations.py:66: RuntimeWarning:\n",
      "\n",
      "overflow encountered in exp\n",
      "\n",
      "C:\\Users\\cseka\\deepLearnAssignment1\\final\\kj\\fashnMnist\\Activations.py:69: RuntimeWarning:\n",
      "\n",
      "invalid value encountered in true_divide\n",
      "\n",
      "C:\\Users\\cseka\\deepLearnAssignment1\\final\\kj\\fashnMnist\\Activations.py:46: RuntimeWarning:\n",
      "\n",
      "invalid value encountered in less\n",
      "\n",
      "C:\\Users\\cseka\\deepLearnAssignment1\\final\\kj\\fashnMnist\\Activations.py:49: RuntimeWarning:\n",
      "\n",
      "invalid value encountered in greater\n",
      "\n"
     ]
    },
    {
     "name": "stdout",
     "output_type": "stream",
     "text": [
      " steps=3/3 , Accuraacy =10.0 ,Loss=nan \n",
      "Completed\n",
      ".....................................\n"
     ]
    }
   ],
   "source": [
    "print('MSE')\n",
    "network=FashnMnist(x=x_trainNorm,y=y_trainNorm,runlog=True ,lossfunction='mse',lr=.1,epochs =3,batch=100\\\n",
    "                   ,weight_decay=0.000001,layer1_size=20,optimizer='adam',activation='relu')\n",
    "network.train()\n",
    "msel,mserunlossmgd=network.TrainingStatistics()\n",
    "print('ENTROPY')\n",
    "network=FashnMnist(x=x_trainNorm,y=y_trainNorm,runlog=True ,lossfunction='cross',lr=.1,epochs =3,\\\n",
    "                   batch=100,weight_decay=0.000001,layer1_size=10,optimizer='adam',activation='relu')\n",
    "network.train()\n",
    "crossl,crossrunlossmgdrelu=network.TrainingStatistics()"
   ]
  },
  {
   "cell_type": "code",
   "execution_count": 30,
   "metadata": {},
   "outputs": [
    {
     "data": {
      "image/png": "[encoded data removed]",
      "text/plain": [
       "<Figure size 432x288 with 1 Axes>"
      ]
     },
     "metadata": {
      "needs_background": "light"
     },
     "output_type": "display_data"
    }
   ],
   "source": [
    "plotGraph(msenl,crossnl,msel,crossl,\"Optimizer: GD\")"
   ]
  },
  {
   "cell_type": "code",
   "execution_count": null,
   "metadata": {},
   "outputs": [],
   "source": []
  },
  {
   "cell_type": "markdown",
   "metadata": {},
   "source": [
    "Run RMS Prop optimizer with mse and cross entropy loss\n",
    "-------"
   ]
  },
  {
   "cell_type": "code",
   "execution_count": null,
   "metadata": {},
   "outputs": [],
   "source": [
    "print('MSE')\n",
    "network=FashnMnist(x=x_trainNorm,y=y_trainNorm,runlog=False ,lossfunction='mse',lr=.1,epochs =3,\\\n",
    "                   batch=32,weight_decay=0.1,layer1_size=20,optimizer='rms',activation='tanh')\n",
    "network.train()\n",
    "mserunacc,mserunloss=network.TrainingStatistics()\n",
    "print('ENTROPY')\n",
    "network=FashnMnist(x=x_trainNorm,y=y_trainNorm,runlog=False ,lossfunction='cross',lr=.1,epochs =3,\\\n",
    "                   batch=32,weight_decay=0.1,layer1_size=20,optimizer='rms',activation='tanh')\n",
    "network.train()\n",
    "crossrunacc,crossrunloss=network.TrainingStatistics()"
   ]
  },
  {
   "cell_type": "code",
   "execution_count": null,
   "metadata": {},
   "outputs": [],
   "source": [
    "    \n",
    "plotGraph(mserunacc,crossrunacc)"
   ]
  },
  {
   "cell_type": "markdown",
   "metadata": {},
   "source": [
    "Run NAG optimizer with mse and cross entropy loss\n",
    "-------"
   ]
  },
  {
   "cell_type": "code",
   "execution_count": null,
   "metadata": {},
   "outputs": [],
   "source": [
    "print('MSE')\n",
    "network=FashnMnist(x=x_trainNorm,y=y_trainNorm,runlog=False ,lossfunction='mse',lr=.1,\\\n",
    "                   epochs =5,batch=32,layer1_size=32,optimizer='nag',activation='tanh')\n",
    "network.train()\n",
    "mserunacc,mserunloss=network.TrainingStatistics()\n",
    "print('ENTROPY')\n",
    "network=FashnMnist(x=x_trainNorm,y=y_trainNorm,runlog=False ,lossfunction='cross',lr=.1,\\\n",
    "                   epochs =5,batch=32,weight_decay=0.1,layer1_size=32,optimizer='nag',activation='tanh')\n",
    "network.train()\n",
    "crossrunacc,crossrunloss=network.TrainingStatistics()"
   ]
  },
  {
   "cell_type": "code",
   "execution_count": null,
   "metadata": {},
   "outputs": [],
   "source": [
    "    \n",
    "plotGraph(mserunacc,crossrunacc)"
   ]
  },
  {
   "cell_type": "markdown",
   "metadata": {},
   "source": [
    "Run NAdam optimizer with mse and cross entropy loss\n",
    "-------"
   ]
  },
  {
   "cell_type": "code",
   "execution_count": null,
   "metadata": {},
   "outputs": [],
   "source": [
    "print('MSE')\n",
    "network=FashnMnist(x=x_trainNorm,y=y_trainNorm,runlog=False ,lossfunction='mse',lr=.1,\\\n",
    "                   epochs =5,batch=100,weight_decay=0.1,layer1_size=20,optimizer='adam',activation='tanh')\n",
    "network.train()\n",
    "mserunacc,mserunloss=network.TrainingStatistics()\n",
    "print('ENTROPY')\n",
    "network=FashnMnist(x=x_trainNorm,y=y_trainNorm,runlog=False ,lossfunction='cross',lr=.1,\\\n",
    "                   epochs =5,batch=100,weight_decay=0.1,layer1_size=20,optimizer='adam',activation='tanh')\n",
    "network.train()\n",
    "crossrunacc,crossrunloss=network.TrainingStatistics()"
   ]
  },
  {
   "cell_type": "code",
   "execution_count": null,
   "metadata": {},
   "outputs": [],
   "source": [
    "plotGraph(mserunacc,crossrunacc)"
   ]
  },
  {
   "cell_type": "markdown",
   "metadata": {},
   "source": [
    "Run GD optimizer with mse and cross entropy loss\n",
    "-------"
   ]
  },
  {
   "cell_type": "code",
   "execution_count": null,
   "metadata": {},
   "outputs": [],
   "source": [
    "print('MSE')\n",
    "network=FashnMnist(x=x_trainNorm,y=y_trainNorm,runlog=True ,lossfunction='mse',\\\n",
    "                   lr=.1,epochs =5,batch=100,,layer1_size=20,optimizer='gd',activation='tanh')\n",
    "network.train()\n",
    "mserunacc,mserunloss=network.TrainingStatistics()\n",
    "print('ENTROPY')\n",
    "network=FashnMnist(x=x_trainNorm,y=y_trainNorm,runlog=True ,lossfunction='cross',lr=.1,epochs =5,batch=100,\\\n",
    "                   weight_decay=0.1,layer1_size=20,optimizer='gd',activation='tanh')\n",
    "network.train()\n",
    "crossrunacc,crossrunloss=network.TrainingStatistics()"
   ]
  },
  {
   "cell_type": "code",
   "execution_count": null,
   "metadata": {},
   "outputs": [],
   "source": []
  },
  {
   "cell_type": "code",
   "execution_count": null,
   "metadata": {},
   "outputs": [],
   "source": [
    "print('MSE')\n",
    "network=FashnMnist(x=x_trainNorm,y=y_trainNorm,runlog=True ,lossfunction='mse',lr=.1,epochs =5,batch=100,\\\n",
    "                   weight_decay=0.1,layer1_size=20,optimizer='adam',activation='relu')\n",
    "network.train()\n",
    "mserunacc,mserunloss=network.TrainingStatistics()\n",
    "print('ENTROPY')\n",
    "network=FashnMnist(x=x_trainNorm,y=y_trainNorm,runlog=True ,lossfunction='cross',lr=.1,epochs =5,\\\n",
    "                   batch=100,weight_decay=0.1,layer1_size=20,optimizer='adam',activation='relu')\n",
    "network.train()\n",
    "crossrunacc,crossrunloss=network.TrainingStatistics()"
   ]
  },
  {
   "cell_type": "code",
   "execution_count": null,
   "metadata": {},
   "outputs": [],
   "source": [
    "plotGraph(mserunacc,crossrunacc)"
   ]
  }
 ],
 "metadata": {
  "kernelspec": {
   "display_name": "Python 3",
   "language": "python",
   "name": "python3"
  },
  "language_info": {
   "codemirror_mode": {
    "name": "ipython",
    "version": 3
   },
   "file_extension": ".py",
   "mimetype": "text/x-python",
   "name": "python",
   "nbconvert_exporter": "python",
   "pygments_lexer": "ipython3",
   "version": "3.6.5"
  }
 },
 "nbformat": 4,
 "nbformat_minor": 2
}
